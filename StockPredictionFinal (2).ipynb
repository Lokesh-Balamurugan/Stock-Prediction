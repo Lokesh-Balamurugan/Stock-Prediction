{
  "nbformat": 4,
  "nbformat_minor": 0,
  "metadata": {
    "colab": {
      "name": "StockPredictionFinal",
      "provenance": [],
      "collapsed_sections": []
    },
    "kernelspec": {
      "name": "python3",
      "display_name": "Python 3"
    },
    "language_info": {
      "name": "python"
    }
  },
  "cells": [
    {
      "cell_type": "code",
      "metadata": {
        "colab": {
          "base_uri": "https://localhost:8080/"
        },
        "id": "GKcVP8x8ML3C",
        "outputId": "c6357280-21ca-4cf4-d7dc-e53690cd9fad"
      },
      "source": [
        "import numpy as np\n",
        "import matplotlib.pyplot as plt\n",
        "import pandas as pd\n",
        "from pandas import datetime\n",
        "import math\n",
        "from math import sqrt\n",
        "from keras.models import Sequential\n",
        "from keras.layers.core import Dense, Activation"
      ],
      "execution_count": 123,
      "outputs": [
        {
          "output_type": "stream",
          "text": [
            "/usr/local/lib/python3.7/dist-packages/ipykernel_launcher.py:4: FutureWarning: The pandas.datetime class is deprecated and will be removed from pandas in a future version. Import from datetime module instead.\n",
            "  after removing the cwd from sys.path.\n"
          ],
          "name": "stderr"
        }
      ]
    },
    {
      "cell_type": "code",
      "metadata": {
        "id": "uJBePYaKMUe3"
      },
      "source": [
        "X=pd.read_csv(\"MGM.csv\")\n",
        "Y=X.loc[:,['Open','High','Close','Volume']]\n",
        "from sklearn.preprocessing import MinMaxScaler\n",
        "# 'feature_range = (0,1)' makes sure that training data is scaled to have values between 0 and 1\n",
        "sc = MinMaxScaler(feature_range = (0, 1))\n",
        "X_scaled = sc.fit_transform(Y)"
      ],
      "execution_count": 142,
      "outputs": []
    },
    {
      "cell_type": "code",
      "metadata": {
        "colab": {
          "base_uri": "https://localhost:8080/"
        },
        "id": "gesid_TiMqeb",
        "outputId": "b00b08d0-447d-453b-c9a1-7a252c075d11"
      },
      "source": [
        "print(X_scaled)"
      ],
      "execution_count": 143,
      "outputs": [
        {
          "output_type": "stream",
          "text": [
            "[[0.42032728 0.38623549 0.42000001 0.03121841]\n",
            " [0.41716914 0.38534557 0.42257144 0.03245381]\n",
            " [0.41946601 0.38237909 0.40600001 0.03762786]\n",
            " ...\n",
            " [0.92362906 0.956096   0.97314291 0.110077  ]\n",
            " [0.96956644 0.98101442 0.96028574 0.08747602]\n",
            " [0.97272463 0.96469882 0.98199997 0.03549063]]\n"
          ],
          "name": "stdout"
        }
      ]
    },
    {
      "cell_type": "code",
      "metadata": {
        "id": "PDKmfaLmMvQ6"
      },
      "source": [
        "df = pd.DataFrame(X_scaled)\n",
        "A = df[[0,1,3]]\n",
        "B = df[[2]]\n",
        "factor = 0.80\n",
        "length = A.shape[0]\n",
        "total_for_train = int(length*factor)\n",
        "X_train = A[:total_for_train]\n",
        "Y_train = B[:total_for_train]\n",
        "X_test = A[total_for_train:]\n",
        "Y_test = B[total_for_train:]"
      ],
      "execution_count": 144,
      "outputs": []
    },
    {
      "cell_type": "code",
      "metadata": {
        "colab": {
          "base_uri": "https://localhost:8080/"
        },
        "id": "iGebgbAmOS_E",
        "outputId": "2a2f6398-c6f8-4c64-8c08-7aea88216baa"
      },
      "source": [
        "print(\"X_train\", X_train.shape)\n",
        "print(\"y_train\", Y_train.shape)\n",
        "print(\"X_test\", X_test.shape)\n",
        "print(\"y_test\", Y_test.shape)"
      ],
      "execution_count": 145,
      "outputs": [
        {
          "output_type": "stream",
          "text": [
            "X_train (1006, 3)\n",
            "y_train (1006, 1)\n",
            "X_test (252, 3)\n",
            "y_test (252, 1)\n"
          ],
          "name": "stdout"
        }
      ]
    },
    {
      "cell_type": "code",
      "metadata": {
        "colab": {
          "base_uri": "https://localhost:8080/"
        },
        "id": "DggJS3ijOeu9",
        "outputId": "a85aa08e-61f3-411e-b388-cfeb5ea84274"
      },
      "source": [
        "classifier = Sequential()\n",
        "classifier.add(Dense(units = 32, kernel_initializer = 'uniform', activation = 'relu', input_dim = 3))\n",
        "classifier.add(Dense(units = 12, kernel_initializer = 'uniform', activation = 'relu'))\n",
        "classifier.add(Dense(units = 1, kernel_initializer = 'uniform', activation = 'linear'))\n",
        "classifier.compile(optimizer = 'adam', loss = 'mean_squared_error', metrics = [])\n",
        "classifier.fit(X_train, Y_train, batch_size =128 , epochs = 30, validation_split=0.05)"
      ],
      "execution_count": 146,
      "outputs": [
        {
          "output_type": "stream",
          "text": [
            "Epoch 1/30\n",
            "8/8 [==============================] - 1s 30ms/step - loss: 0.3986 - val_loss: 0.1477\n",
            "Epoch 2/30\n",
            "8/8 [==============================] - 0s 9ms/step - loss: 0.3890 - val_loss: 0.1413\n",
            "Epoch 3/30\n",
            "8/8 [==============================] - 0s 9ms/step - loss: 0.3758 - val_loss: 0.1341\n",
            "Epoch 4/30\n",
            "8/8 [==============================] - 0s 8ms/step - loss: 0.3621 - val_loss: 0.1256\n",
            "Epoch 5/30\n",
            "8/8 [==============================] - 0s 10ms/step - loss: 0.3449 - val_loss: 0.1154\n",
            "Epoch 6/30\n",
            "8/8 [==============================] - 0s 9ms/step - loss: 0.3167 - val_loss: 0.1029\n",
            "Epoch 7/30\n",
            "8/8 [==============================] - 0s 9ms/step - loss: 0.2864 - val_loss: 0.0884\n",
            "Epoch 8/30\n",
            "8/8 [==============================] - 0s 9ms/step - loss: 0.2519 - val_loss: 0.0723\n",
            "Epoch 9/30\n",
            "8/8 [==============================] - 0s 9ms/step - loss: 0.2064 - val_loss: 0.0562\n",
            "Epoch 10/30\n",
            "8/8 [==============================] - 0s 8ms/step - loss: 0.1582 - val_loss: 0.0428\n",
            "Epoch 11/30\n",
            "8/8 [==============================] - 0s 7ms/step - loss: 0.1060 - val_loss: 0.0357\n",
            "Epoch 12/30\n",
            "8/8 [==============================] - 0s 7ms/step - loss: 0.0614 - val_loss: 0.0382\n",
            "Epoch 13/30\n",
            "8/8 [==============================] - 0s 8ms/step - loss: 0.0272 - val_loss: 0.0509\n",
            "Epoch 14/30\n",
            "8/8 [==============================] - 0s 8ms/step - loss: 0.0091 - val_loss: 0.0688\n",
            "Epoch 15/30\n",
            "8/8 [==============================] - 0s 8ms/step - loss: 0.0035 - val_loss: 0.0821\n",
            "Epoch 16/30\n",
            "8/8 [==============================] - 0s 8ms/step - loss: 0.0036 - val_loss: 0.0860\n",
            "Epoch 17/30\n",
            "8/8 [==============================] - 0s 8ms/step - loss: 0.0041 - val_loss: 0.0825\n",
            "Epoch 18/30\n",
            "8/8 [==============================] - 0s 8ms/step - loss: 0.0036 - val_loss: 0.0774\n",
            "Epoch 19/30\n",
            "8/8 [==============================] - 0s 9ms/step - loss: 0.0033 - val_loss: 0.0740\n",
            "Epoch 20/30\n",
            "8/8 [==============================] - 0s 11ms/step - loss: 0.0032 - val_loss: 0.0725\n",
            "Epoch 21/30\n",
            "8/8 [==============================] - 0s 10ms/step - loss: 0.0032 - val_loss: 0.0722\n",
            "Epoch 22/30\n",
            "8/8 [==============================] - 0s 10ms/step - loss: 0.0032 - val_loss: 0.0726\n",
            "Epoch 23/30\n",
            "8/8 [==============================] - 0s 8ms/step - loss: 0.0030 - val_loss: 0.0726\n",
            "Epoch 24/30\n",
            "8/8 [==============================] - 0s 9ms/step - loss: 0.0031 - val_loss: 0.0725\n",
            "Epoch 25/30\n",
            "8/8 [==============================] - 0s 9ms/step - loss: 0.0031 - val_loss: 0.0723\n",
            "Epoch 26/30\n",
            "8/8 [==============================] - 0s 9ms/step - loss: 0.0033 - val_loss: 0.0720\n",
            "Epoch 27/30\n",
            "8/8 [==============================] - 0s 10ms/step - loss: 0.0031 - val_loss: 0.0712\n",
            "Epoch 28/30\n",
            "8/8 [==============================] - 0s 9ms/step - loss: 0.0032 - val_loss: 0.0706\n",
            "Epoch 29/30\n",
            "8/8 [==============================] - 0s 10ms/step - loss: 0.0031 - val_loss: 0.0702\n",
            "Epoch 30/30\n",
            "8/8 [==============================] - 0s 8ms/step - loss: 0.0030 - val_loss: 0.0696\n"
          ],
          "name": "stdout"
        },
        {
          "output_type": "execute_result",
          "data": {
            "text/plain": [
              "<tensorflow.python.keras.callbacks.History at 0x7f077ea81fd0>"
            ]
          },
          "metadata": {
            "tags": []
          },
          "execution_count": 146
        }
      ]
    },
    {
      "cell_type": "code",
      "metadata": {
        "colab": {
          "base_uri": "https://localhost:8080/"
        },
        "id": "rNYfsnvlOo_u",
        "outputId": "f01d35a7-150a-4f88-d747-9928aa8b64f1"
      },
      "source": [
        "predictions = classifier.predict(X_test)\n",
        "print(predictions[:10])"
      ],
      "execution_count": 147,
      "outputs": [
        {
          "output_type": "stream",
          "text": [
            "[[0.45968372]\n",
            " [0.49172565]\n",
            " [0.5091257 ]\n",
            " [0.5253383 ]\n",
            " [0.51519525]\n",
            " [0.49831998]\n",
            " [0.47886294]\n",
            " [0.48320583]\n",
            " [0.4611911 ]\n",
            " [0.48049828]]\n"
          ],
          "name": "stdout"
        }
      ]
    },
    {
      "cell_type": "code",
      "metadata": {
        "colab": {
          "base_uri": "https://localhost:8080/"
        },
        "id": "aZ8LBDoBOsl7",
        "outputId": "93bfd605-2c4c-46ca-932e-0f86de9ac2a9"
      },
      "source": [
        "trainScore = classifier.evaluate(X_train, Y_train, verbose=0)\n",
        "print('Train Score: %.2f MSE (%.2f RMSE)' % (trainScore, math.sqrt(trainScore)))\n",
        "testScore = classifier.evaluate(X_test, Y_test, verbose=0)\n",
        "print('Test Score: %.2f MSE (%.2f RMSE)' % (testScore, math.sqrt(testScore)))"
      ],
      "execution_count": 148,
      "outputs": [
        {
          "output_type": "stream",
          "text": [
            "Train Score: 0.01 MSE (0.08 RMSE)\n",
            "Test Score: 0.03 MSE (0.16 RMSE)\n"
          ],
          "name": "stdout"
        }
      ]
    },
    {
      "cell_type": "code",
      "metadata": {
        "colab": {
          "base_uri": "https://localhost:8080/",
          "height": 513
        },
        "id": "r_8DoItnOvSz",
        "outputId": "747d5cd9-b5b7-4652-b4ae-1f0e1ccb0634"
      },
      "source": [
        "import matplotlib.pyplot as plt\n",
        "plt.plot(predictions,color='red', label='Predictions from the trained model')\n",
        "plt.legend(loc='upper left')\n",
        "plt.show()\n",
        "plt.plot(Y_test,color='blue', label='Read values for the stock')\n",
        "plt.legend(loc='upper left')\n",
        "plt.show()"
      ],
      "execution_count": 149,
      "outputs": [
        {
          "output_type": "display_data",
          "data": {
            "image/png": "[encoded data removed]",
            "text/plain": [
              "<Figure size 432x288 with 1 Axes>"
            ]
          },
          "metadata": {
            "tags": [],
            "needs_background": "light"
          }
        },
        {
          "output_type": "display_data",
          "data": {
            "image/png": "[encoded data removed]",
            "text/plain": [
              "<Figure size 432x288 with 1 Axes>"
            ]
          },
          "metadata": {
            "tags": [],
            "needs_background": "light"
          }
        }
      ]
    },
    {
      "cell_type": "code",
      "metadata": {
        "colab": {
          "base_uri": "https://localhost:8080/"
        },
        "id": "jBjx1B_NPCBl",
        "outputId": "b8a83594-c6d6-4f98-c2b0-2d7199293a4c"
      },
      "source": [
        "print(Y_test)"
      ],
      "execution_count": 122,
      "outputs": [
        {
          "output_type": "stream",
          "text": [
            "             2\n",
            "1006  0.358860\n",
            "1007  0.366793\n",
            "1008  0.370168\n",
            "1009  0.366600\n",
            "1010  0.342809\n",
            "...        ...\n",
            "1253  0.997196\n",
            "1254  0.995642\n",
            "1255  1.000000\n",
            "1256  0.993317\n",
            "1257  0.992907\n",
            "\n",
            "[252 rows x 1 columns]\n"
          ],
          "name": "stdout"
        }
      ]
    }
  ]
}