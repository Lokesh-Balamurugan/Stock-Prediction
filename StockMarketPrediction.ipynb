{
  "nbformat": 4,
  "nbformat_minor": 0,
  "metadata": {
    "colab": {
      "name": "StockPredictionFinal (2).ipynb",
      "provenance": [],
      "collapsed_sections": []
    },
    "kernelspec": {
      "name": "python3",
      "display_name": "Python 3"
    },
    "language_info": {
      "name": "python"
    }
  },
  "cells": [
    {
      "cell_type": "code",
      "metadata": {
        "id": "GKcVP8x8ML3C"
      },
      "source": [
        "import numpy as np\n",
        "import matplotlib.pyplot as plt\n",
        "import pandas as pd\n",
        "from pandas import datetime\n",
        "import math\n",
        "from math import sqrt\n",
        "from keras.models import Sequential\n",
        "from keras.layers.core import Dense, Activation"
      ],
      "execution_count": null,
      "outputs": []
    },
    {
      "cell_type": "code",
      "metadata": {
        "id": "uJBePYaKMUe3"
      },
      "source": [
        "X=pd.read_csv(\"GOOGL.csv\")\n",
        "Y=X.loc[:,['Open','High','Close','Volume']]\n",
        "from sklearn.preprocessing import MinMaxScaler\n",
        "# 'feature_range = (0,1)' makes sure that training data is scaled to have values between 0 and 1\n",
        "sc = MinMaxScaler(feature_range = (0, 1))\n",
        "X_scaled = sc.fit_transform(Y)"
      ],
      "execution_count": 2,
      "outputs": []
    },
    {
      "cell_type": "code",
      "metadata": {
        "colab": {
          "base_uri": "https://localhost:8080/"
        },
        "id": "gesid_TiMqeb",
        "outputId": "20c35d77-e3eb-4dad-a8b6-9638793f940c"
      },
      "source": [
        "print(X_scaled)"
      ],
      "execution_count": 3,
      "outputs": [
        {
          "output_type": "stream",
          "text": [
            "[[0.03803095 0.04355362 0.03520409 1.        ]\n",
            " [0.03273064 0.037976   0.03796422 0.3052036 ]\n",
            " [0.03834674 0.03841408 0.02749561 0.3540453 ]\n",
            " ...\n",
            " [0.98308975 1.         1.         0.1595455 ]\n",
            " [1.         0.99685944 0.99331725 0.09868731]\n",
            " [0.98424771 0.98513655 0.99290702 0.10554736]]\n"
          ],
          "name": "stdout"
        }
      ]
    },
    {
      "cell_type": "code",
      "metadata": {
        "id": "PDKmfaLmMvQ6"
      },
      "source": [
        "df = pd.DataFrame(X_scaled)\n",
        "A = df[[0,1,3]]\n",
        "B = df[[2]]\n",
        "factor = 0.80\n",
        "length = A.shape[0]\n",
        "total_for_train = int(length*factor)\n",
        "X_train = A[:total_for_train]\n",
        "Y_train = B[:total_for_train]\n",
        "X_test = A[total_for_train:]\n",
        "Y_test = B[total_for_train:]"
      ],
      "execution_count": 4,
      "outputs": []
    },
    {
      "cell_type": "code",
      "metadata": {
        "colab": {
          "base_uri": "https://localhost:8080/"
        },
        "id": "iGebgbAmOS_E",
        "outputId": "0d8ee235-eed3-49c9-c179-0f67d330f24f"
      },
      "source": [
        "print(\"X_train\", X_train.shape)\n",
        "print(\"y_train\", Y_train.shape)\n",
        "print(\"X_test\", X_test.shape)\n",
        "print(\"y_test\", Y_test.shape)"
      ],
      "execution_count": 5,
      "outputs": [
        {
          "output_type": "stream",
          "text": [
            "X_train (1006, 3)\n",
            "y_train (1006, 1)\n",
            "X_test (252, 3)\n",
            "y_test (252, 1)\n"
          ],
          "name": "stdout"
        }
      ]
    },
    {
      "cell_type": "code",
      "metadata": {
        "colab": {
          "base_uri": "https://localhost:8080/"
        },
        "id": "DggJS3ijOeu9",
        "outputId": "59b5526e-711a-429a-cedf-17011507be57"
      },
      "source": [
        "classifier = Sequential()\n",
        "classifier.add(Dense(units = 32, kernel_initializer = 'uniform', activation = 'relu', input_dim = 3))\n",
        "classifier.add(Dense(units = 12, kernel_initializer = 'uniform', activation = 'relu'))\n",
        "classifier.add(Dense(units = 1, kernel_initializer = 'uniform', activation = 'linear'))\n",
        "classifier.compile(optimizer = 'adam', loss = 'mean_squared_error', metrics = [])\n",
        "classifier.fit(X_train, Y_train, batch_size =128 , epochs = 30, validation_split=0.05)"
      ],
      "execution_count": 6,
      "outputs": [
        {
          "output_type": "stream",
          "text": [
            "Epoch 1/30\n",
            "8/8 [==============================] - 1s 69ms/step - loss: 0.0605 - val_loss: 0.1365\n",
            "Epoch 2/30\n",
            "8/8 [==============================] - 0s 8ms/step - loss: 0.0558 - val_loss: 0.1292\n",
            "Epoch 3/30\n",
            "8/8 [==============================] - 0s 7ms/step - loss: 0.0531 - val_loss: 0.1207\n",
            "Epoch 4/30\n",
            "8/8 [==============================] - 0s 8ms/step - loss: 0.0465 - val_loss: 0.1107\n",
            "Epoch 5/30\n",
            "8/8 [==============================] - 0s 8ms/step - loss: 0.0425 - val_loss: 0.0985\n",
            "Epoch 6/30\n",
            "8/8 [==============================] - 0s 8ms/step - loss: 0.0360 - val_loss: 0.0839\n",
            "Epoch 7/30\n",
            "8/8 [==============================] - 0s 7ms/step - loss: 0.0291 - val_loss: 0.0671\n",
            "Epoch 8/30\n",
            "8/8 [==============================] - 0s 7ms/step - loss: 0.0209 - val_loss: 0.0496\n",
            "Epoch 9/30\n",
            "8/8 [==============================] - 0s 8ms/step - loss: 0.0147 - val_loss: 0.0332\n",
            "Epoch 10/30\n",
            "8/8 [==============================] - 0s 7ms/step - loss: 0.0105 - val_loss: 0.0213\n",
            "Epoch 11/30\n",
            "8/8 [==============================] - 0s 7ms/step - loss: 0.0089 - val_loss: 0.0150\n",
            "Epoch 12/30\n",
            "8/8 [==============================] - 0s 7ms/step - loss: 0.0086 - val_loss: 0.0130\n",
            "Epoch 13/30\n",
            "8/8 [==============================] - 0s 8ms/step - loss: 0.0084 - val_loss: 0.0137\n",
            "Epoch 14/30\n",
            "8/8 [==============================] - 0s 7ms/step - loss: 0.0080 - val_loss: 0.0147\n",
            "Epoch 15/30\n",
            "8/8 [==============================] - 0s 8ms/step - loss: 0.0074 - val_loss: 0.0150\n",
            "Epoch 16/30\n",
            "8/8 [==============================] - 0s 8ms/step - loss: 0.0075 - val_loss: 0.0146\n",
            "Epoch 17/30\n",
            "8/8 [==============================] - 0s 7ms/step - loss: 0.0072 - val_loss: 0.0136\n",
            "Epoch 18/30\n",
            "8/8 [==============================] - 0s 7ms/step - loss: 0.0068 - val_loss: 0.0124\n",
            "Epoch 19/30\n",
            "8/8 [==============================] - 0s 8ms/step - loss: 0.0062 - val_loss: 0.0114\n",
            "Epoch 20/30\n",
            "8/8 [==============================] - 0s 8ms/step - loss: 0.0061 - val_loss: 0.0105\n",
            "Epoch 21/30\n",
            "8/8 [==============================] - 0s 7ms/step - loss: 0.0056 - val_loss: 0.0097\n",
            "Epoch 22/30\n",
            "8/8 [==============================] - 0s 7ms/step - loss: 0.0049 - val_loss: 0.0092\n",
            "Epoch 23/30\n",
            "8/8 [==============================] - 0s 7ms/step - loss: 0.0047 - val_loss: 0.0081\n",
            "Epoch 24/30\n",
            "8/8 [==============================] - 0s 7ms/step - loss: 0.0041 - val_loss: 0.0073\n",
            "Epoch 25/30\n",
            "8/8 [==============================] - 0s 8ms/step - loss: 0.0036 - val_loss: 0.0065\n",
            "Epoch 26/30\n",
            "8/8 [==============================] - 0s 8ms/step - loss: 0.0029 - val_loss: 0.0054\n",
            "Epoch 27/30\n",
            "8/8 [==============================] - 0s 9ms/step - loss: 0.0024 - val_loss: 0.0044\n",
            "Epoch 28/30\n",
            "8/8 [==============================] - 0s 7ms/step - loss: 0.0018 - val_loss: 0.0033\n",
            "Epoch 29/30\n",
            "8/8 [==============================] - 0s 8ms/step - loss: 0.0012 - val_loss: 0.0024\n",
            "Epoch 30/30\n",
            "8/8 [==============================] - 0s 7ms/step - loss: 7.1067e-04 - val_loss: 0.0016\n"
          ],
          "name": "stdout"
        },
        {
          "output_type": "execute_result",
          "data": {
            "text/plain": [
              "<tensorflow.python.keras.callbacks.History at 0x7fa8a82a4690>"
            ]
          },
          "metadata": {
            "tags": []
          },
          "execution_count": 6
        }
      ]
    },
    {
      "cell_type": "code",
      "metadata": {
        "colab": {
          "base_uri": "https://localhost:8080/"
        },
        "id": "rNYfsnvlOo_u",
        "outputId": "49770bb1-8375-4a44-d7c5-b0d57f502d49"
      },
      "source": [
        "predictions = classifier.predict(X_test)\n",
        "print(predictions[:10])"
      ],
      "execution_count": 7,
      "outputs": [
        {
          "output_type": "stream",
          "text": [
            "[[0.33111477]\n",
            " [0.3446958 ]\n",
            " [0.33825326]\n",
            " [0.34825814]\n",
            " [0.32533318]\n",
            " [0.3464809 ]\n",
            " [0.3662219 ]\n",
            " [0.36775208]\n",
            " [0.36465555]\n",
            " [0.37915033]]\n"
          ],
          "name": "stdout"
        }
      ]
    },
    {
      "cell_type": "code",
      "metadata": {
        "colab": {
          "base_uri": "https://localhost:8080/"
        },
        "id": "aZ8LBDoBOsl7",
        "outputId": "10d2b796-ef8b-434d-bbc9-e5da7f7ca666"
      },
      "source": [
        "trainScore = classifier.evaluate(X_train, Y_train, verbose=0)\n",
        "print('Train Score: %.2f MSE (%.2f RMSE)' % (trainScore, math.sqrt(trainScore)))\n",
        "testScore = classifier.evaluate(X_test, Y_test, verbose=0)\n",
        "print('Test Score: %.2f MSE (%.2f RMSE)' % (testScore, math.sqrt(testScore)))"
      ],
      "execution_count": 8,
      "outputs": [
        {
          "output_type": "stream",
          "text": [
            "Train Score: 0.00 MSE (0.02 RMSE)\n",
            "Test Score: 0.02 MSE (0.12 RMSE)\n"
          ],
          "name": "stdout"
        }
      ]
    },
    {
      "cell_type": "code",
      "metadata": {
        "colab": {
          "base_uri": "https://localhost:8080/",
          "height": 513
        },
        "id": "r_8DoItnOvSz",
        "outputId": "e24d2aaf-08d0-4c7c-f899-9e6e3944b268"
      },
      "source": [
        "import matplotlib.pyplot as plt\n",
        "plt.plot(predictions,color='red', label='Predictions from the trained model')\n",
        "plt.legend(loc='upper left')\n",
        "plt.show()\n",
        "plt.plot(Y_test,color='blue', label='Read values for the stock')\n",
        "plt.legend(loc='upper left')\n",
        "plt.show()"
      ],
      "execution_count": 9,
      "outputs": [
        {
          "output_type": "display_data",
          "data": {
            "image/png": "[encoded data removed]",
            "text/plain": [
              "<Figure size 432x288 with 1 Axes>"
            ]
          },
          "metadata": {
            "tags": [],
            "needs_background": "light"
          }
        },
        {
          "output_type": "display_data",
          "data": {
            "image/png": "[encoded data removed]",
            "text/plain": [
              "<Figure size 432x288 with 1 Axes>"
            ]
          },
          "metadata": {
            "tags": [],
            "needs_background": "light"
          }
        }
      ]
    }
  ]
}